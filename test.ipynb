{
  "cells": [
    {
      "cell_type": "markdown",
      "metadata": {
        "id": "view-in-github",
        "colab_type": "text"
      },
      "source": [
        "<a href=\"https://colab.research.google.com/github/drak00/test_collab/blob/main/test.ipynb\" target=\"_parent\"><img src=\"https://colab.research.google.com/assets/colab-badge.svg\" alt=\"Open In Colab\"/></a>"
      ]
    },
    {
      "cell_type": "code",
      "source": [],
      "metadata": {
        "id": "4BeHtlIew2vg",
        "outputId": "dfe8f3b7-34b7-4472-e686-764f3f5fdc62",
        "colab": {
          "base_uri": "https://localhost:8080/"
        }
      },
      "id": "4BeHtlIew2vg",
      "execution_count": 2,
      "outputs": [
        {
          "output_type": "stream",
          "name": "stdout",
          "text": [
            "fatal: not a git repository (or any of the parent directories): .git\n"
          ]
        }
      ]
    },
    {
      "cell_type": "code",
      "source": [
        "import numpy as np\n",
        "import string\n",
        "\n",
        "\n",
        "for i in string.ascii_letters:\n",
        "    print(i)\n"
      ],
      "metadata": {
        "id": "xScIK7miw73a",
        "outputId": "37d02b91-2f6b-4690-e5b9-c83f2dbc2668",
        "colab": {
          "base_uri": "https://localhost:8080/"
        }
      },
      "id": "xScIK7miw73a",
      "execution_count": null,
      "outputs": [
        {
          "output_type": "stream",
          "name": "stdout",
          "text": [
            "a\n",
            "b\n",
            "c\n",
            "d\n",
            "e\n",
            "f\n",
            "g\n",
            "h\n",
            "i\n",
            "j\n",
            "k\n",
            "l\n",
            "m\n",
            "n\n",
            "o\n",
            "p\n",
            "q\n",
            "r\n",
            "s\n",
            "t\n",
            "u\n",
            "v\n",
            "w\n",
            "x\n",
            "y\n",
            "z\n",
            "A\n",
            "B\n",
            "C\n",
            "D\n",
            "E\n",
            "F\n",
            "G\n",
            "H\n",
            "I\n",
            "J\n",
            "K\n",
            "L\n",
            "M\n",
            "N\n",
            "O\n",
            "P\n",
            "Q\n",
            "R\n",
            "S\n",
            "T\n",
            "U\n",
            "V\n",
            "W\n",
            "X\n",
            "Y\n",
            "Z\n"
          ]
        }
      ]
    },
    {
      "cell_type": "code",
      "source": [
        "!git init\n"
      ],
      "metadata": {
        "id": "seTjRAPFxTM0",
        "outputId": "301894ec-5732-4c8a-dd81-4a86fd06fd60",
        "colab": {
          "base_uri": "https://localhost:8080/"
        }
      },
      "id": "seTjRAPFxTM0",
      "execution_count": null,
      "outputs": [
        {
          "output_type": "stream",
          "name": "stdout",
          "text": [
            "Initialized empty Git repository in /content/.git/\n"
          ]
        }
      ]
    },
    {
      "cell_type": "code",
      "source": [
        "!ls -a"
      ],
      "metadata": {
        "id": "UmS0yHPDxaaD",
        "outputId": "0e2a59ae-e3a4-4099-f9c6-5c7c34cf474c",
        "colab": {
          "base_uri": "https://localhost:8080/"
        }
      },
      "id": "UmS0yHPDxaaD",
      "execution_count": null,
      "outputs": [
        {
          "output_type": "stream",
          "name": "stdout",
          "text": [
            ".  ..  .config\t.git  sample_data\n"
          ]
        }
      ]
    },
    {
      "cell_type": "code",
      "source": [
        "!git remote add origin git@github.com:drak00/test_collab.git"
      ],
      "metadata": {
        "id": "L17TXfEGxc9d"
      },
      "id": "L17TXfEGxc9d",
      "execution_count": null,
      "outputs": []
    },
    {
      "cell_type": "code",
      "source": [
        "cd MyDrive/"
      ],
      "metadata": {
        "id": "NYo-wY4wxqQU",
        "outputId": "adcc50a8-291d-4948-bff1-cf111c4d6ae9",
        "colab": {
          "base_uri": "https://localhost:8080/"
        }
      },
      "id": "NYo-wY4wxqQU",
      "execution_count": null,
      "outputs": [
        {
          "output_type": "stream",
          "name": "stdout",
          "text": [
            "/content/drive/MyDrive\n"
          ]
        }
      ]
    },
    {
      "cell_type": "code",
      "source": [
        "!ls"
      ],
      "metadata": {
        "id": "VuBe81g3xs0R",
        "colab": {
          "base_uri": "https://localhost:8080/"
        },
        "outputId": "c52bc752-3357-486f-e437-9dd571a75bf6"
      },
      "id": "VuBe81g3xs0R",
      "execution_count": null,
      "outputs": [
        {
          "output_type": "stream",
          "name": "stdout",
          "text": [
            " 20210227_230530.gdoc\n",
            " 20210227_230530.jpg\n",
            " 2c1e80f0-ef77-46a9-b1d8-f70f456e7cba.pdf\n",
            " 9152021.pdf\n",
            "'Action Plan Autonomous Vehicle.gdoc'\n",
            "'Action Plan Wolfram Alpha;.gdoc'\n",
            "'AI C++'\n",
            " AI+for+Business+Leaders+Executive+Program+Syllabus.gdoc\n",
            " AI+for+Business+Leaders+Executive+Program+Syllabus.pdf\n",
            "'AI. Hype or Hope.mp4'\n",
            "'AI Tutor'\n",
            "'Ai_Tutor (1).py'\n",
            "'Ai_Tutor (2).py'\n",
            "'Ai_Tutor (3).py'\n",
            "'Ai_Tutor (4).py'\n",
            " Ai_Tutor.py\n",
            " algebra.txt\n",
            " AlphabetRecognitionFinal.ipynb\n",
            "'Artificial Intelligence Curriculum.gdoc'\n",
            "'Artificial Intelligence (Taponline).gdoc'\n",
            "'Asset 1@2x.png'\n",
            "'Biology Syllabus (Waec & Jamb).gdoc'\n",
            "'Blueberry Business Plan-2.docx'\n",
            "'Blueberry Content.docx'\n",
            "'Blueberry Go-To-Market Strategy.gsheet'\n",
            "'Blueberry Internship report.xlsx'\n",
            "'Blueberry Learning Product Launch Countdown.xlsm'\n",
            "'Blueberry Learning: Your Personal Exam Preparation Assistant.gform'\n",
            "'Blueberry Product Backlog - Bar chart 1.gsheet'\n",
            "'Blueberry Product Backlog.gdoc'\n",
            "'Blueberry User Feedback.gform'\n",
            "'Brainstormed questions to be answered.gdoc'\n",
            " capC\n",
            "'capC (1)'\n",
            " capF\n",
            "'capF (1)'\n",
            " capP\n",
            "'capP (1)'\n",
            " capU\n",
            "'capU (1)'\n",
            " capV\n",
            "'capV (1)'\n",
            " capX\n",
            "'capX (1)'\n",
            " capZ\n",
            "'capZ (1)'\n",
            "'Chemistry Jamb Waec Syllabus.gdoc'\n",
            "'Chemistry materials'\n",
            " Classroom\n",
            " CNN_AlphabetRecognition-master\n",
            "'Colab Notebooks'\n",
            " Content\n",
            "'content creation guidelines.gsheet'\n",
            "'content creation recommendation details.pdf'\n",
            "'Copy of Adebayo Awofuye.gsheet'\n",
            "'Copy of Adebayo Awofuye.xlsx'\n",
            "'Copy of Denim_Products_Spreadsheet.gsheet'\n",
            "'Copy of ISDP Template.gdoc'\n",
            "'Copy of SWOT Analysis Template.gdoc'\n",
            "'Copy of Techstars Application Questions..gdoc'\n",
            "'CV - Drako.pdf'\n",
            " CV.pdf\n",
            " Drako.png\n",
            " examSimulation.mov\n",
            "'FEDERAL REPUBLIC OF NIGERIA.pdf'\n",
            "'Gamma Prime'\n",
            "'Gamma Prime Customer Research (D).gform'\n",
            "'Gamma Prime.gdoc'\n",
            "'Gamma Prime.mp4'\n",
            "'Gamma Talk.m4a'\n",
            " GCC\n",
            " GCC.mp4\n",
            " GCC.zip\n",
            "'Ibrahim Hanif Muhammad UKG Platinum.pdf'\n",
            "'ICT IGCSE:.gdoc'\n",
            " IMG-20190811-WA0015.jpg.pdf\n",
            " IMG-20210102-WA0000.jpg\n",
            " InShot_20220730_194646222.mp4\n",
            " Intel\n",
            "'Jamila Faruk - Creative drawing.gdraw'\n",
            "'Loan Agreement.gdoc'\n",
            " messi.jpg\n",
            " new_labels\n",
            "'New Year Meeting (Blueberry).mp4'\n",
            " o\n",
            "'o (1)'\n",
            " p\n",
            "'p (1)'\n",
            " parriafterparri.mp4\n",
            "'pirate ride.mp4'\n",
            " Pong.apk\n",
            "'Projects (companion document).gdoc'\n",
            " PROJECTS.gdoc\n",
            "'Prototype Ventilator.gsheet'\n",
            "'Python Curriculum.gdoc'\n",
            "'python opencv'\n",
            "'Python Script (TAPONLINE).gdoc'\n",
            "'Resume (1).pdf'\n",
            "'Resume (2).pdf'\n",
            " Resume.docx\n",
            " Resume.gdoc\n",
            " Resume.odt\n",
            " Resume.pdf\n",
            " s\n",
            "'s (1)'\n",
            "'Sadhguru (Published).zip'\n",
            "'sample content.zip'\n",
            "'scene motion detection and segmentation.mp4'\n",
            "'Screenshot from 2020-07-06 22-24-05.gdoc'\n",
            "'Screenshot from 2020-07-06 22-24-05.png'\n",
            "'simple motion detection.mp4'\n",
            " ss1.py\n",
            "'Steamledge Internship (Embedded Systems).gform'\n",
            "'steamLEDGE PRESENTATION.pdf'\n",
            "'Steamledge Pythoneers Challenge.gsheet'\n",
            "'Steamledge Pythoneers Initiative.gform'\n",
            " team.jpg\n",
            "'TODO: IN ORDER OF PRIORITY DIFFICULTY.gdoc'\n",
            "'To-do list.gsheet'\n",
            "'TODO (Physics).docx'\n",
            " u\n",
            "'u (1)'\n",
            "'Untitled document.gdoc'\n",
            "'Untitled Jam.gjam'\n",
            "'Untitled spreadsheet (1).gsheet'\n",
            "'Untitled spreadsheet (2).gsheet'\n",
            "'Untitled spreadsheet.gsheet'\n",
            " Ventilator\n",
            " video2260278222.mp4\n",
            "'WhatsApp Image 2020-11-26 at 1.18.54 PM.gdoc'\n",
            "'WhatsApp Image 2020-11-26 at 1.18.54 PM.jpeg'\n",
            " wins_and_losses.docx\n",
            " x\n",
            "'x (1)'\n",
            " YMFC-AL\n",
            "'Your big idea.gslides'\n"
          ]
        }
      ]
    },
    {
      "cell_type": "code",
      "source": [
        "from google.colab import drive\n",
        "drive.mount('/content/drive')"
      ],
      "metadata": {
        "id": "_D2KW9QSyFQY",
        "outputId": "aaef55c1-f3dd-4af2-b904-bef99c7ca42f",
        "colab": {
          "base_uri": "https://localhost:8080/"
        }
      },
      "id": "_D2KW9QSyFQY",
      "execution_count": null,
      "outputs": [
        {
          "output_type": "stream",
          "name": "stdout",
          "text": [
            "Mounted at /content/drive\n"
          ]
        }
      ]
    }
  ],
  "metadata": {
    "colab": {
      "provenance": [],
      "name": "test.ipynb",
      "include_colab_link": true
    },
    "language_info": {
      "name": "python"
    },
    "kernelspec": {
      "name": "python3",
      "display_name": "Python 3"
    },
    "gpuClass": "standard"
  },
  "nbformat": 4,
  "nbformat_minor": 5
}